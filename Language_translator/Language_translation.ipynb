{
 "cells": [
  {
   "cell_type": "code",
   "execution_count": 1,
   "id": "81b18f3b",
   "metadata": {},
   "outputs": [],
   "source": [
    "import pandas as pd\n",
    "from transformers import pipeline\n",
    "from googletrans import Translator\n",
    "from tqdm.notebook import tqdm\n",
    "import time\n",
    "import random\n",
    "import logging\n",
    "import numpy as np\n",
    "from multiprocessing import Pool, cpu_count\n",
    "import re\n",
    "\n",
    "# Configure logging\n",
    "logging.basicConfig(level=logging.INFO)\n",
    "logger = logging.getLogger(__name__)\n",
    "tqdm.pandas()"
   ]
  },
  {
   "cell_type": "code",
   "execution_count": 3,
   "id": "36d37c40",
   "metadata": {},
   "outputs": [
    {
     "data": {
      "application/vnd.microsoft.datawrangler.viewer.v0+json": {
       "columns": [
        {
         "name": "index",
         "rawType": "int64",
         "type": "integer"
        },
        {
         "name": "Comment",
         "rawType": "object",
         "type": "string"
        }
       ],
       "conversionMethod": "pd.DataFrame",
       "ref": "7574c652-e1a6-4a42-9c8e-ae236b078d1c",
       "rows": [
        [
         "0",
         "මොනා උනත් පොත්ත සුදු කෑල්ලක් දැකලා දෙකට නැවුනෙ නැති එකට respect කොල්ලො සමහර උන් නිකනුත් දාන් යන්න try කරනවනේ"
        ],
        [
         "1",
         "බැරිනං PickMe එකෙන් අයින් වෙලා නිකං හයර් දුවපං මේකේ ඉන්න වියළි කලාපයේ උන් සල්ලි උස්සං හැම තැනම ගියාට කොළඹ ඉන්න එවුන් හැමතැනම ගෙනියන්නේ card කියලා නොදැන මෙතල වැළලෙන්ඩ හදනවා කෙල්ලගේ හමටයි රස්සාවටයි බැන බැන පිස්සු කෙලිනවා මෙයා කවුද කියලා මම දන්නෑ නමුත් මේ ප් ‍ රශ්නේ දැන් PickMe එකේ මල වදයක් වෙලා තියෙන්නේ එක්කෝ මගදි කියනවා trip එක cancel කරන්ඩ කියලා උන්ට companyයට ගෙවන්ඩ බැරි නිසා එතකොට අපේ safety එකට කවුද වගකියන්නේ එකෙන් හයර් එක අරන් එහෙම බලු වැඩ කරන එවුන් එමටයි එකෙන් හයර් එක දුවන ගමන් card option එකට මාරු වෙන්ඩ ඉඩදීලා තියනවනං ඒකට එකඟවෙන්න riderට බැරිනං ඒක company agreement එකට විරුද්ධව යෑමක් එහෙනං අස් වෙලා හන්දි ගානේ හයර් එනකං වේලි වේලි හිටියනං හරි කවුරුත් බලෙන් PickMe එකට ගත්තේ නෑ නේ"
        ],
        [
         "2",
         "ට් ‍ රිප් එක මැදදී කෑශ් හයර් එක කාඩ් හයර් එකට චේන්ජ් කරන්න ඔප්ශන් එකක් දීලා තියනවා කියන්නේ පික් මී ඩ් ‍ රයිවර් මේ දෙකටම ඔට්ටුයි කියන එක ඕනේ වෙලාවක ඒකට මේ මල්ලි එකඟ නැතිනම් පික් මී දුවන්නැතුව හන්දියේ වීල් පාක් එකේ දුවන්න තිබ්බා අපරාදේ මේ ගෑණු ලමයගේ දවසම කෑවා"
        ],
        [
         "3",
         "me දුවපු කොල්ලෙක්ට විතරයි seen එක තේරෙන්නෙඋදේම cashඑකක් ගන්නෙ තෙල් ගහන්න අතේ සල්ලි නැතුව බන්"
        ],
        [
         "4",
         "මාත් හයර් දුවන්නෙ කස්ටමර්ගෙ පැත්තෙන් බලනකොට සාදාරනයි දෙයියෝ අද රටේ වෙන් දේවල් එක්ක මිනිස්සු විශ්වාස කරන්න බැ කෙල්ලෙක් නැග්ගම අපෙ උන් සෑහෙන්න වෙනස් වෙනවා මගදි එහෙම උනාම මිනිස්සු සල්ලි අතෙ තියගන්නෙ නැ මචං තේරුම් ගනිල්ල කාඩ් කෑශ් කියල අවුලක් නැ අපේ කැපෙන ගාන අපි අනිවාර්යයෙන්ම ගෙවන්න ඔනි තේරුනද මන් දැන් අවුරුදු 4 ක් විතර කාඩ් කෑශ් ප් ‍ රශ්නයක් නිස මුලදි මගෙ අකවුන්ට් බ්ලොක් උන නොතෙරෙන නිස ගින් සමීක්ෂනයකට ඉදල තෙරුම් අරන් අද මිනිස්සු එක්ක සාමකාමීව ලස්සනට සතුටින් මිනිසුන්ගේ සතුට දිනාගෙන ආදරෙන් වගකීමෙන් ජොබ් එක කරනවා මම මේක හරිම ලස්සන ජොබ් එකක් නිදහස් ඒ ජොබ් එක සාදාරනවා ලස්සනට කරන්න වරදින එකක් නැ කස්ටමර්ස්ල නිසයි අපි කියක් හරි හොයගන්නෙ කියන එක අමතක කරන්න එපා යාලුවා"
        ]
       ],
       "shape": {
        "columns": 1,
        "rows": 5
       }
      },
      "text/html": [
       "<div>\n",
       "<style scoped>\n",
       "    .dataframe tbody tr th:only-of-type {\n",
       "        vertical-align: middle;\n",
       "    }\n",
       "\n",
       "    .dataframe tbody tr th {\n",
       "        vertical-align: top;\n",
       "    }\n",
       "\n",
       "    .dataframe thead th {\n",
       "        text-align: right;\n",
       "    }\n",
       "</style>\n",
       "<table border=\"1\" class=\"dataframe\">\n",
       "  <thead>\n",
       "    <tr style=\"text-align: right;\">\n",
       "      <th></th>\n",
       "      <th>Comment</th>\n",
       "    </tr>\n",
       "  </thead>\n",
       "  <tbody>\n",
       "    <tr>\n",
       "      <th>0</th>\n",
       "      <td>මොනා උනත් පොත්ත සුදු කෑල්ලක් දැකලා දෙකට නැවුනෙ...</td>\n",
       "    </tr>\n",
       "    <tr>\n",
       "      <th>1</th>\n",
       "      <td>බැරිනං PickMe එකෙන් අයින් වෙලා නිකං හයර් දුවපං...</td>\n",
       "    </tr>\n",
       "    <tr>\n",
       "      <th>2</th>\n",
       "      <td>ට් ‍ රිප් එක මැදදී කෑශ් හයර් එක කාඩ් හයර් එකට ...</td>\n",
       "    </tr>\n",
       "    <tr>\n",
       "      <th>3</th>\n",
       "      <td>me දුවපු කොල්ලෙක්ට විතරයි seen එක තේරෙන්නෙඋදේම...</td>\n",
       "    </tr>\n",
       "    <tr>\n",
       "      <th>4</th>\n",
       "      <td>මාත් හයර් දුවන්නෙ කස්ටමර්ගෙ පැත්තෙන් බලනකොට සා...</td>\n",
       "    </tr>\n",
       "  </tbody>\n",
       "</table>\n",
       "</div>"
      ],
      "text/plain": [
       "                                             Comment\n",
       "0  මොනා උනත් පොත්ත සුදු කෑල්ලක් දැකලා දෙකට නැවුනෙ...\n",
       "1  බැරිනං PickMe එකෙන් අයින් වෙලා නිකං හයර් දුවපං...\n",
       "2  ට් ‍ රිප් එක මැදදී කෑශ් හයර් එක කාඩ් හයර් එකට ...\n",
       "3  me දුවපු කොල්ලෙක්ට විතරයි seen එක තේරෙන්නෙඋදේම...\n",
       "4  මාත් හයර් දුවන්නෙ කස්ටමර්ගෙ පැත්තෙන් බලනකොට සා..."
      ]
     },
     "execution_count": 3,
     "metadata": {},
     "output_type": "execute_result"
    }
   ],
   "source": [
    "df_01 = pd.read_csv('/Volumes/KODAK/folder 02/language_translation/Language_translator/data/filtered_dataset.csv')\n",
    "\n",
    "df_01.head()"
   ]
  },
  {
   "cell_type": "code",
   "execution_count": 14,
   "id": "6d57f7b4",
   "metadata": {},
   "outputs": [],
   "source": [
    "def clean_and_preprocess_text(text):\n",
    "    \"\"\"\n",
    "    Comprehensive text cleaning and preprocessing for Sinhala-English mixed content\n",
    "    Handles URLs, special chars, mixed language tokens, and whitespace\n",
    "    \"\"\"\n",
    "    \n",
    "    if not isinstance(text, str):\n",
    "        return \"\"\n",
    "    \n",
    "    \n",
    "    # Reular expression patterns\n",
    "    sinhala_pattern = re.compile(r'[\\u0D80-\\u0DFF\\u0DE6-\\u0DEF0-9]+')\n",
    "    english_pattern = re.compile(r'[a-zA-Z]+')\n",
    "    url_pattern = re.compile(r'http\\S+|www\\S+|https\\S+', flags=re.MULTILINE)\n",
    "    special_char_pattern = re.compile(r'[[^\\u0D80-\\u0DFF\\s.,!?\\'\\\"]]')\n",
    "    special_whitespace = re.compile(r'[\\u200B-\\u200D\\uFEFF\\u00A0]')\n",
    "    \n",
    "    # Remove URLs\n",
    "    text = url_pattern.sub('', text)\n",
    "    text = special_whitespace.sub(' ', text)\n",
    "    \n",
    "    # Split into tokens(words)\n",
    "    tokens = text.split()\n",
    "    processed_tokens = []\n",
    "    \n",
    "    for token in tokens:\n",
    "        # Check langauge composition of each token\n",
    "        has_sinhala = bool(sinhala_pattern.search(token))\n",
    "        has_english = bool(english_pattern.search(token))\n",
    "        \n",
    "        # Pure Sinhala - process special chars only\n",
    "        if has_sinhala and not has_english:\n",
    "            cleaned_token = special_char_pattern.sub('', token)\n",
    "            if cleaned_token:\n",
    "                processed_tokens.append(cleaned_token)\n",
    "                \n",
    "        \n",
    "        # Mixed Sinhala-English - extract only Sinhala part\n",
    "        elif has_sinhala and has_english:\n",
    "            sinhala_parts = ''.join(sinhala_pattern.findall(token))\n",
    "            if sinhala_parts:\n",
    "                processed_tokens.append(sinhala_parts)\n",
    "                \n",
    "                \n",
    "        # Pure English - remove completely (change if you want to keep)\n",
    "        else:\n",
    "            cleaned_eng = special_char_pattern.sub('', token)\n",
    "            if cleaned_eng:\n",
    "                processed_tokens.append(f'[ENG: {cleaned_eng}]')\n",
    "                \n",
    "                \n",
    "    # Reconstruct the text\n",
    "    processed_text = ' '.join(processed_tokens)\n",
    "    \n",
    "    # Final cleaning and whitespace normalization \n",
    "    processed_text = special_char_pattern.sub('', processed_text)\n",
    "    processed_text = ' '.join(processed_text.split())\n",
    "    \n",
    "    return processed_text.strip()"
   ]
  },
  {
   "cell_type": "code",
   "execution_count": 15,
   "id": "4542ff2a",
   "metadata": {},
   "outputs": [
    {
     "name": "stdout",
     "output_type": "stream",
     "text": [
      "                                             Comment\n",
      "0  මොනා උනත් පොත්ත සුදු කෑල්ලක් දැකලා දෙකට නැවුනෙ...\n",
      "1  බැරිනං PickMe එකෙන් අයින් වෙලා නිකං හයර් දුවපං...\n",
      "2  ට් ‍ රිප් එක මැදදී කෑශ් හයර් එක කාඩ් හයර් එකට ...\n",
      "3  me දුවපු කොල්ලෙක්ට විතරයි seen එක තේරෙන්නෙඋදේම...\n",
      "4  මාත් හයර් දුවන්නෙ කස්ටමර්ගෙ පැත්තෙන් බලනකොට සා...\n",
      "Total comments: 807\n",
      "Comments after cleaning: 807\n",
      "\n",
      "Original: මොනා උනත් පොත්ත සුදු කෑල්ලක් දැකලා දෙකට නැවුනෙ නැති එකට respect කොල්ලො සමහර උන් නිකනුත් දාන් යන්න try කරනවනේ\n",
      "Cleaned: මොනා උනත් පොත්ත සුදු කෑල්ලක් දැකලා දෙකට නැවුනෙ නැති එකට [ENG: respect] කොල්ලො සමහර උන් නිකනුත් දාන් යන්න [ENG: try] කරනවනේ\n",
      "\n",
      "Original: බැරිනං PickMe එකෙන් අයින් වෙලා නිකං හයර් දුවපං මේකේ ඉන්න වියළි කලාපයේ උන් සල්ලි උස්සං හැම තැනම ගියාට කොළඹ ඉන්න එවුන් හැමතැනම ගෙනියන්නේ card කියලා නොදැන මෙතල වැළලෙන්ඩ හදනවා කෙල්ලගේ හමටයි රස්සාවටයි බැන බැන පිස්සු කෙලිනවා මෙයා කවුද කියලා මම දන්නෑ නමුත් මේ ප් ‍ රශ්නේ දැන් PickMe එකේ මල වදයක් වෙලා තියෙන්නේ එක්කෝ මගදි කියනවා trip එක cancel කරන්ඩ කියලා උන්ට companyයට ගෙවන්ඩ බැරි නිසා එතකොට අපේ safety එකට කවුද වගකියන්නේ එකෙන් හයර් එක අරන් එහෙම බලු වැඩ කරන එවුන් එමටයි එකෙන් හයර් එක දුවන ගමන් card option එකට මාරු වෙන්ඩ ඉඩදීලා තියනවනං ඒකට එකඟවෙන්න riderට බැරිනං ඒක company agreement එකට විරුද්ධව යෑමක් එහෙනං අස් වෙලා හන්දි ගානේ හයර් එනකං වේලි වේලි හිටියනං හරි කවුරුත් බලෙන් PickMe එකට ගත්තේ නෑ නේ\n",
      "Cleaned: බැරිනං [ENG: PickMe] එකෙන් අයින් වෙලා නිකං හයර් දුවපං මේකේ ඉන්න වියළි කලාපයේ උන් සල්ලි උස්සං හැම තැනම ගියාට කොළඹ ඉන්න එවුන් හැමතැනම ගෙනියන්නේ [ENG: card] කියලා නොදැන මෙතල වැළලෙන්ඩ හදනවා කෙල්ලගේ හමටයි රස්සාවටයි බැන බැන පිස්සු කෙලිනවා මෙයා කවුද කියලා මම දන්නෑ නමුත් මේ ප් රශ්නේ දැන් [ENG: PickMe] එකේ මල වදයක් වෙලා තියෙන්නේ එක්කෝ මගදි කියනවා [ENG: trip] එක [ENG: cancel] කරන්ඩ කියලා උන්ට යට ගෙවන්ඩ බැරි නිසා එතකොට අපේ [ENG: safety] එකට කවුද වගකියන්නේ එකෙන් හයර් එක අරන් එහෙම බලු වැඩ කරන එවුන් එමටයි එකෙන් හයර් එක දුවන ගමන් [ENG: card] [ENG: option] එකට මාරු වෙන්ඩ ඉඩදීලා තියනවනං ඒකට එකඟවෙන්න ට බැරිනං ඒක [ENG: company] [ENG: agreement] එකට විරුද්ධව යෑමක් එහෙනං අස් වෙලා හන්දි ගානේ හයර් එනකං වේලි වේලි හිටියනං හරි කවුරුත් බලෙන් [ENG: PickMe] එකට ගත්තේ නෑ නේ\n",
      "\n",
      "Original: ට් ‍ රිප් එක මැදදී කෑශ් හයර් එක කාඩ් හයර් එකට චේන්ජ් කරන්න ඔප්ශන් එකක් දීලා තියනවා කියන්නේ පික් මී ඩ් ‍ රයිවර් මේ දෙකටම ඔට්ටුයි කියන එක ඕනේ වෙලාවක ඒකට මේ මල්ලි එකඟ නැතිනම් පික් මී දුවන්නැතුව හන්දියේ වීල් පාක් එකේ දුවන්න තිබ්බා අපරාදේ මේ ගෑණු ලමයගේ දවසම කෑවා\n",
      "Cleaned: ට් රිප් එක මැදදී කෑශ් හයර් එක කාඩ් හයර් එකට චේන්ජ් කරන්න ඔප්ශන් එකක් දීලා තියනවා කියන්නේ පික් මී ඩ් රයිවර් මේ දෙකටම ඔට්ටුයි කියන එක ඕනේ වෙලාවක ඒකට මේ මල්ලි එකඟ නැතිනම් පික් මී දුවන්නැතුව හන්දියේ වීල් පාක් එකේ දුවන්න තිබ්බා අපරාදේ මේ ගෑණු ලමයගේ දවසම කෑවා\n",
      "\n",
      "Original: me දුවපු කොල්ලෙක්ට විතරයි seen එක තේරෙන්නෙඋදේම cashඑකක් ගන්නෙ තෙල් ගහන්න අතේ සල්ලි නැතුව බන්\n",
      "Cleaned: [ENG: me] දුවපු කොල්ලෙක්ට විතරයි [ENG: seen] එක තේරෙන්නෙඋදේම එකක් ගන්නෙ තෙල් ගහන්න අතේ සල්ලි නැතුව බන්\n",
      "\n",
      "Original: මාත් හයර් දුවන්නෙ කස්ටමර්ගෙ පැත්තෙන් බලනකොට සාදාරනයි දෙයියෝ අද රටේ වෙන් දේවල් එක්ක මිනිස්සු විශ්වාස කරන්න බැ කෙල්ලෙක් නැග්ගම අපෙ උන් සෑහෙන්න වෙනස් වෙනවා මගදි එහෙම උනාම මිනිස්සු සල්ලි අතෙ තියගන්නෙ නැ මචං තේරුම් ගනිල්ල කාඩ් කෑශ් කියල අවුලක් නැ අපේ කැපෙන ගාන අපි අනිවාර්යයෙන්ම ගෙවන්න ඔනි තේරුනද මන් දැන් අවුරුදු 4 ක් විතර කාඩ් කෑශ් ප් ‍ රශ්නයක් නිස මුලදි මගෙ අකවුන්ට් බ්ලොක් උන නොතෙරෙන නිස ගින් සමීක්ෂනයකට ඉදල තෙරුම් අරන් අද මිනිස්සු එක්ක සාමකාමීව ලස්සනට සතුටින් මිනිසුන්ගේ සතුට දිනාගෙන ආදරෙන් වගකීමෙන් ජොබ් එක කරනවා මම මේක හරිම ලස්සන ජොබ් එකක් නිදහස් ඒ ජොබ් එක සාදාරනවා ලස්සනට කරන්න වරදින එකක් නැ කස්ටමර්ස්ල නිසයි අපි කියක් හරි හොයගන්නෙ කියන එක අමතක කරන්න එපා යාලුවා\n",
      "Cleaned: මාත් හයර් දුවන්නෙ කස්ටමර්ගෙ පැත්තෙන් බලනකොට සාදාරනයි දෙයියෝ අද රටේ වෙන් දේවල් එක්ක මිනිස්සු විශ්වාස කරන්න බැ කෙල්ලෙක් නැග්ගම අපෙ උන් සෑහෙන්න වෙනස් වෙනවා මගදි එහෙම උනාම මිනිස්සු සල්ලි අතෙ තියගන්නෙ නැ මචං තේරුම් ගනිල්ල කාඩ් කෑශ් කියල අවුලක් නැ අපේ කැපෙන ගාන අපි අනිවාර්යයෙන්ම ගෙවන්න ඔනි තේරුනද මන් දැන් අවුරුදු 4 ක් විතර කාඩ් කෑශ් ප් රශ්නයක් නිස මුලදි මගෙ අකවුන්ට් බ්ලොක් උන නොතෙරෙන නිස ගින් සමීක්ෂනයකට ඉදල තෙරුම් අරන් අද මිනිස්සු එක්ක සාමකාමීව ලස්සනට සතුටින් මිනිසුන්ගේ සතුට දිනාගෙන ආදරෙන් වගකීමෙන් ජොබ් එක කරනවා මම මේක හරිම ලස්සන ජොබ් එකක් නිදහස් ඒ ජොබ් එක සාදාරනවා ලස්සනට කරන්න වරදින එකක් නැ කස්ටමර්ස්ල නිසයි අපි කියක් හරි හොයගන්නෙ කියන එක අමතක කරන්න එපා යාලුවා\n"
     ]
    }
   ],
   "source": [
    "# load the pipeline\n",
    "\n",
    "df = pd.read_csv('/Volumes/KODAK/folder 02/language_translation/Language_translator/data/filtered_dataset.csv')\n",
    "\n",
    "# check the structure\n",
    "print(df.head())\n",
    "print(f'Total comments: {len(df)}')\n",
    "\n",
    "# Apply the combined cleaning function\n",
    "df['cleaned_comment'] = df['Comment'].apply(clean_and_preprocess_text)\n",
    "\n",
    "# Remove empty comments after cleaning\n",
    "df = df[df['cleaned_comment'].str.len() > 0]\n",
    "print(f'Comments after cleaning: {len(df)}')\n",
    "\n",
    "\n",
    "# Show some sample\n",
    "for idx, row in df.head(5).iterrows():\n",
    "    print(f'\\nOriginal: {row['Comment']}')\n",
    "    print(f'Cleaned: {row['cleaned_comment']}')"
   ]
  },
  {
   "cell_type": "markdown",
   "id": "a41c1883",
   "metadata": {},
   "source": [
    "# Hybrid Approach"
   ]
  },
  {
   "cell_type": "code",
   "execution_count": 16,
   "id": "c3a15c8c",
   "metadata": {},
   "outputs": [],
   "source": [
    "def translate_hybrid(text, max_retries = 3):\n",
    "    if not text or len(text) == 0:\n",
    "        return \"\"\n",
    "    \n",
    "    # Try Helsinki first\n",
    "    for attempt in range(max_retries):\n",
    "        try:\n",
    "            result = translate_helsinki(text)\n",
    "            if result and len(result) > 0:\n",
    "                return result\n",
    "        except:\n",
    "            time.sleep(1)\n",
    "            \n",
    "            \n",
    "    # Fallback to Google Translate\n",
    "    for attempt in range(max_retries):\n",
    "        try:\n",
    "            result = translate_google(text)\n",
    "            if result and len(result) > 0:\n",
    "                return result\n",
    "        except:\n",
    "            time.sleep(1)\n",
    "            \n",
    "    return \"\" # Return empty string if all attempts fail"
   ]
  },
  {
   "cell_type": "markdown",
   "id": "a3405dc1",
   "metadata": {},
   "source": [
    "# Parallel Translation Function"
   ]
  },
  {
   "cell_type": "code",
   "execution_count": 17,
   "id": "78a7185c",
   "metadata": {},
   "outputs": [],
   "source": [
    "def parallel_translate(df_chunk):\n",
    "    return df_chunk['cleaned_comment'].progress_apply(translate_hybrid)\n",
    "\n",
    "def translate_in_parallel(df, n_workers = None):\n",
    "    if n_workers is None:\n",
    "        n_workers = max(1, cpu_count() - 1)\n",
    "        \n",
    "        \n",
    "    df_split = np.array_split(df, n_workers)\n",
    "    \n",
    "    with Pool(n_workers) as pool:\n",
    "        results = pool.map(parallel_translate, df_split)\n",
    "        \n",
    "    # Combine results\n",
    "    return pd.concat(results)"
   ]
  },
  {
   "cell_type": "code",
   "execution_count": null,
   "id": "305b6007",
   "metadata": {},
   "outputs": [],
   "source": []
  }
 ],
 "metadata": {
  "kernelspec": {
   "display_name": "base",
   "language": "python",
   "name": "python3"
  },
  "language_info": {
   "codemirror_mode": {
    "name": "ipython",
    "version": 3
   },
   "file_extension": ".py",
   "mimetype": "text/x-python",
   "name": "python",
   "nbconvert_exporter": "python",
   "pygments_lexer": "ipython3",
   "version": "3.12.4"
  }
 },
 "nbformat": 4,
 "nbformat_minor": 5
}
